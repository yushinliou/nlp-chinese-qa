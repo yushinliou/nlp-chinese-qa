{
  "cells": [
    {
      "cell_type": "code",
      "execution_count": 1,
      "metadata": {
        "colab": {
          "base_uri": "https://localhost:8080/"
        },
        "id": "gBVOi1Pn-uXR",
        "outputId": "cae21b00-7dd9-4226-d4ca-b20eeb77aba3"
      },
      "outputs": [
        {
          "output_type": "stream",
          "name": "stdout",
          "text": [
            "Mounted at /content/drive\n"
          ]
        }
      ],
      "source": [
        "from google.colab import drive\n",
        "drive.mount('/content/drive')"
      ]
    },
    {
      "cell_type": "code",
      "execution_count": 2,
      "metadata": {
        "colab": {
          "base_uri": "https://localhost:8080/"
        },
        "id": "zMxwESKP-y-v",
        "outputId": "facecebc-c2ba-4a43-8896-9761077fd780"
      },
      "outputs": [
        {
          "output_type": "stream",
          "name": "stdout",
          "text": [
            "/content/drive/MyDrive/colab/bonus1\n"
          ]
        }
      ],
      "source": [
        "%cd drive/MyDrive/colab/bonus1"
      ]
    },
    {
      "cell_type": "code",
      "execution_count": null,
      "metadata": {
        "id": "_CrHwuxw-hm1"
      },
      "outputs": [],
      "source": [
        "!pip install transformers\n",
        "!pip install numpy==1.17.3\n",
        "!pip install -q -U watermark\n",
        "%reload_ext watermark\n",
        "%watermark -v -p numpy,pandas,torch,transformers"
      ]
    },
    {
      "cell_type": "code",
      "execution_count": 7,
      "metadata": {
        "id": "gAHBf--I-hm2"
      },
      "outputs": [],
      "source": [
        "import numpy as np\n",
        "import pandas as pd\n",
        "import seaborn as sns\n",
        "from time import time  # To time our operations\n",
        "\n",
        "from pylab import rcParams\n",
        "import matplotlib.pyplot as plt\n",
        "from matplotlib import rc\n",
        "from sklearn.model_selection import train_test_split\n",
        "from sklearn.metrics import confusion_matrix, classification_report\n",
        "from collections import defaultdict\n",
        "from textwrap import wrap\n",
        "\n",
        "import transformers\n",
        "from transformers import BertModel, BertTokenizer, AdamW, get_linear_schedule_with_warmup\n",
        "import torch\n",
        "\n",
        "from torch import nn, optim\n",
        "from torch.utils.data import Dataset, DataLoader\n",
        "import torch.nn.functional as F\n",
        "\n",
        "import json\n",
        "from typing import Dict\n",
        "from pathlib import Path"
      ]
    },
    {
      "cell_type": "markdown",
      "metadata": {
        "id": "hb6ykrHE-hm4"
      },
      "source": [
        "+ 基本參數設定"
      ]
    },
    {
      "cell_type": "code",
      "execution_count": 8,
      "metadata": {
        "colab": {
          "base_uri": "https://localhost:8080/"
        },
        "id": "Rf6oPVpR-hm5",
        "outputId": "d3cb0378-6e22-4c37-bee4-0f418635cf19"
      },
      "outputs": [
        {
          "output_type": "execute_result",
          "data": {
            "text/plain": [
              "device(type='cpu')"
            ]
          },
          "metadata": {},
          "execution_count": 8
        }
      ],
      "source": [
        "%matplotlib inline\n",
        "%config InlineBackend.figure_format='retina'\n",
        "\n",
        "# 設定畫圖背景樣式、調色盤樣式、字型大小\n",
        "sns.set(style='whitegrid', palette='muted', font_scale=1.2)\n",
        "# 設定調色盤顏色\n",
        "HAPPY_COLORS_PALETTE = [\"#01BEFE\", \"#FFDD00\", \"#FF7D00\", \"#FF006D\", \"#ADFF02\", \"#8F00FF\"]\n",
        "sns.set_palette(sns.color_palette(HAPPY_COLORS_PALETTE))\n",
        "# 設定畫布大小\n",
        "rcParams['figure.figsize'] = 12, 8\n",
        "\n",
        "# 設定隨機變數\n",
        "RANDOM_SEED = 42\n",
        "np.random.seed(RANDOM_SEED)\n",
        "torch.manual_seed(RANDOM_SEED)\n",
        "# 設定使用 GPU（第0張）\n",
        "device = torch.device(\"cuda:0\" if torch.cuda.is_available() else \"cpu\")\n",
        "device"
      ]
    },
    {
      "cell_type": "markdown",
      "metadata": {
        "id": "FD8nEo_n-hm5"
      },
      "source": [
        "## 2. 資料前處理"
      ]
    },
    {
      "cell_type": "code",
      "execution_count": 9,
      "metadata": {
        "id": "ZruCVIJB-hnA"
      },
      "outputs": [],
      "source": [
        "class GPReviewDataset(Dataset):\n",
        "\n",
        "    def __init__(self, reviews, targets, tokenizer, max_len):\n",
        "        self.reviews = reviews\n",
        "        self.targets = targets\n",
        "        self.tokenizer = tokenizer\n",
        "        self.max_len = max_len\n",
        "  \n",
        "    def __len__(self):\n",
        "        return len(self.reviews)\n",
        "  \n",
        "    def __getitem__(self, item):\n",
        "        review = str(self.reviews[item])\n",
        "        target = self.targets[item]\n",
        "\n",
        "        encoding = self.tokenizer.encode_plus(\n",
        "          review,\n",
        "          truncation=True,\n",
        "          add_special_tokens=True,\n",
        "          max_length=self.max_len, #句子的最大長度\n",
        "          padding='max_length',\n",
        "          return_token_type_ids=False,\n",
        "          return_attention_mask=True,\n",
        "          return_tensors='pt',\n",
        "        )\n",
        "\n",
        "        return {\n",
        "          'review_text': review,\n",
        "          'input_ids': encoding['input_ids'].flatten(), # encode 完之後的 token id\n",
        "          'attention_mask': encoding['attention_mask'].flatten(), # encode 完之後的 attention mask\n",
        "          'targets': torch.tensor(target, dtype=torch.long)\n",
        "        }\n",
        "\n",
        "class GPReviewDataset_test(Dataset):\n",
        "\n",
        "    def __init__(self, reviews, tokenizer, max_len):\n",
        "        self.reviews = reviews\n",
        "        self.tokenizer = tokenizer\n",
        "        self.max_len = max_len\n",
        "  \n",
        "    def __len__(self):\n",
        "        return len(self.reviews)\n",
        "  \n",
        "    def __getitem__(self, item):\n",
        "        review = str(self.reviews[item])\n",
        "        encoding = self.tokenizer.encode_plus(\n",
        "          review,\n",
        "          truncation=True,\n",
        "          add_special_tokens=True,\n",
        "          max_length=self.max_len, #句子的最大長度\n",
        "          padding='max_length',\n",
        "          return_token_type_ids=False,\n",
        "          return_attention_mask=True,\n",
        "          return_tensors='pt',\n",
        "        )\n",
        "\n",
        "        return {\n",
        "          'review_text': review,\n",
        "          'input_ids': encoding['input_ids'].flatten(), # encode 完之後的 token id\n",
        "          'attention_mask': encoding['attention_mask'].flatten(), # encode 完之後的 attention mask\n",
        "        }"
      ]
    },
    {
      "cell_type": "code",
      "source": [
        "def create_data_loader(df, text, target, tokenizer, max_len, batch_size):\n",
        "    # ds：GPReviewDataset 處理後的回傳結果\n",
        "    ds = GPReviewDataset(\n",
        "        reviews=df[text].to_numpy(), # 要預測的句子\n",
        "        targets=df[target].to_numpy(), # 要預測的目標\n",
        "        tokenizer=tokenizer,\n",
        "        max_len=max_len\n",
        "    )\n",
        "\n",
        "    return DataLoader(\n",
        "        ds,\n",
        "        batch_size=batch_size,\n",
        "        num_workers=4\n",
        "    )\n",
        "\n",
        "def create_data_loader_test(df,text, tokenizer, max_len, batch_size):\n",
        "    ds = GPReviewDataset_test(\n",
        "        reviews=df[text].to_numpy(), # 要預測的句子\n",
        "        tokenizer=tokenizer,\n",
        "        max_len=max_len\n",
        "    )\n",
        "\n",
        "    return DataLoader(\n",
        "        ds,\n",
        "        batch_size=batch_size,\n",
        "        num_workers=4\n",
        "    )\n",
        "\n",
        "def trans_intent(df,col,trans_dict):\n",
        "  if col in df.columns:\n",
        "    df[col] = df[col].replace(trans_dict, regex=True)\n",
        "  return df"
      ],
      "metadata": {
        "id": "X-0VLPbZ0mlk"
      },
      "execution_count": 10,
      "outputs": []
    },
    {
      "cell_type": "code",
      "execution_count": 11,
      "metadata": {
        "id": "pepuqQ9J-hnE"
      },
      "outputs": [],
      "source": [
        "class SentimentClassifier(nn.Module):\n",
        "\n",
        "    def __init__(self, n_classes):\n",
        "        super(SentimentClassifier, self).__init__()\n",
        "        # 定義會用到的方法\n",
        "        self.bert = BertModel.from_pretrained(PRE_TRAINED_MODEL_NAME) #bert model\n",
        "        self.drop = nn.Dropout(p=0.3) # dropout layer\n",
        "        self.out = nn.Linear(self.bert.config.hidden_size, n_classes) # layer sahpe, 預測幾類\n",
        "  \n",
        "    def forward(self, input_ids, attention_mask):\n",
        "        # 把上面定義的方法串起來\n",
        "        model_output = self.bert( \n",
        "          input_ids=input_ids,\n",
        "          attention_mask=attention_mask\n",
        "        )\n",
        "        output = self.drop(model_output.pooler_output)\n",
        "        \n",
        "        return self.out(output)"
      ]
    },
    {
      "cell_type": "code",
      "execution_count": 12,
      "metadata": {
        "id": "qm5Wc_Vf-hnF"
      },
      "outputs": [],
      "source": [
        "def train_epoch(\n",
        "  model, \n",
        "  data_loader, \n",
        "  loss_fn, \n",
        "  optimizer, \n",
        "  device, \n",
        "  scheduler, \n",
        "  n_examples\n",
        "):\n",
        "    model = model.train()\n",
        "\n",
        "    losses = []\n",
        "    correct_predictions = 0\n",
        "  \n",
        "    for d in data_loader:\n",
        "        # 1.把訓練資料放到 GPU 上\n",
        "        input_ids = d[\"input_ids\"].to(device)\n",
        "        attention_mask = d[\"attention_mask\"].to(device)\n",
        "        targets = d[\"targets\"].to(device)\n",
        "        \n",
        "        # 2.拿出模型預測結果(預測各類別的機率)\n",
        "        outputs = model(\n",
        "          input_ids=input_ids,\n",
        "          attention_mask=attention_mask\n",
        "        )\n",
        "        \n",
        "        # 3 取出預測機率的最大值，當作最終預測類別\n",
        "        _, preds = torch.max(outputs, dim=1)\n",
        "        # 比較預測機率和真實標籤的差異算loss\n",
        "        loss = loss_fn(outputs, targets)\n",
        "        \n",
        "        # 計算正確預測的數量，並儲存loss\n",
        "        correct_predictions += torch.sum(preds == targets)\n",
        "        losses.append(loss.item())\n",
        "        \n",
        "        # 4. 更新模型參數\n",
        "        loss.backward()\n",
        "        # 為了避免梯度爆炸，將梯度限制在１以內\n",
        "        nn.utils.clip_grad_norm_(model.parameters(), max_norm=1.0)\n",
        "        optimizer.step()\n",
        "        scheduler.step()\n",
        "        optimizer.zero_grad()\n",
        "\n",
        "    return correct_predictions.double() / n_examples, np.mean(losses)"
      ]
    },
    {
      "cell_type": "code",
      "execution_count": 13,
      "metadata": {
        "id": "8--Rnh2Y-hnF"
      },
      "outputs": [],
      "source": [
        "def eval_model(model, data_loader, loss_fn, device, n_examples):\n",
        "    model = model.eval()\n",
        "\n",
        "    losses = []\n",
        "    correct_predictions = 0\n",
        "\n",
        "    with torch.no_grad():\n",
        "        for d in data_loader:\n",
        "            # 1.把訓練資料放到 GPU 上\n",
        "            input_ids = d[\"input_ids\"].to(device)\n",
        "            attention_mask = d[\"attention_mask\"].to(device)\n",
        "            targets = d[\"targets\"].to(device)\n",
        "            \n",
        "            # 2.拿出模型預測結果(預測各類別的機率)\n",
        "            outputs = model(\n",
        "            input_ids=input_ids,\n",
        "            attention_mask=attention_mask\n",
        "            )\n",
        "            \n",
        "            # 3 取出預測機率的最大值，當作最終預測類別\n",
        "            _, preds = torch.max(outputs, dim=1)\n",
        "            # 比較預測機率和真實標籤的差異算loss\n",
        "            loss = loss_fn(outputs, targets)\n",
        "            # 計算正確預測的數量，並儲存loss\n",
        "            correct_predictions += torch.sum(preds == targets)\n",
        "            losses.append(loss.item())\n",
        "\n",
        "    return correct_predictions.double() / n_examples, np.mean(losses)"
      ]
    },
    {
      "cell_type": "code",
      "source": [
        "target_col = 'intent'\n",
        "text_col = 'text'\n",
        "\n",
        "data_dir = Path('intent')\n",
        "SPLITS = [\"train\", \"eval\",\"test\"]\n",
        "\n",
        "# 讀取 Intent id對應\n",
        "intent_idx_path = Path('intent') / \"intent2idx.json\"\n",
        "intent2idx: Dict[str, int] = json.loads(intent_idx_path.read_text())\n",
        "\n",
        "# 讀取訓練資料\n",
        "data_paths = {split: data_dir / f\"{split}.json\" for split in SPLITS} # 路徑\n",
        "data_df = {split: pd.read_json(path) for split, path in data_paths.items()} # 資料本身\n",
        "data_df = {k: trans_intent(v,target_col,intent2idx) for k, v in data_df.items()} # 轉換 Intent 編號\n",
        "\n",
        "# x標籤\n",
        "class_names = list(intent2idx.keys())"
      ],
      "metadata": {
        "id": "hIz2MUA_pkHc"
      },
      "execution_count": 14,
      "outputs": []
    },
    {
      "cell_type": "markdown",
      "metadata": {
        "id": "un-SKvTJ-hnA"
      },
      "source": [
        "### 定義模型參數"
      ]
    },
    {
      "cell_type": "code",
      "execution_count": 21,
      "metadata": {
        "id": "BpaKGpuI-hm9"
      },
      "outputs": [],
      "source": [
        "# 指定預訓練模型種類\n",
        "PRE_TRAINED_MODEL_NAME = \"bert-base-chinese\"\n",
        "# 定義 tokenizer (處理句子的模式)\n",
        "tokenizer = BertTokenizer.from_pretrained(PRE_TRAINED_MODEL_NAME)\n",
        "\n",
        "# 訓練流程參數\n",
        "EPOCHS = 1 # EPOCHS = 10 \n",
        "BATCH_SIZE = 128\n",
        "MAX_LEN = 16 # 512"
      ]
    },
    {
      "cell_type": "markdown",
      "source": [
        "## 轉換資料格式"
      ],
      "metadata": {
        "id": "oz2f9w-m1C0M"
      }
    },
    {
      "cell_type": "code",
      "execution_count": 18,
      "metadata": {
        "colab": {
          "base_uri": "https://localhost:8080/"
        },
        "id": "tSNJ1Dnr-hnB",
        "outputId": "9036b3f7-478c-4b47-b25a-e811b6693f80"
      },
      "outputs": [
        {
          "output_type": "stream",
          "name": "stderr",
          "text": [
            "/usr/local/lib/python3.7/dist-packages/torch/utils/data/dataloader.py:566: UserWarning: This DataLoader will create 4 worker processes in total. Our suggested max number of worker in current system is 2, which is smaller than what this DataLoader is going to create. Please be aware that excessive worker creation might get DataLoader running slow or even freeze, lower the worker number to avoid potential slowness/freeze if necessary.\n",
            "  cpuset_checked))\n"
          ]
        }
      ],
      "source": [
        "df_train = data_df['train']\n",
        "df_val = data_df['train']\n",
        "df_test = data_df['test']\n",
        "\n",
        "# 處理 train / validation / test 的 data loader\n",
        "train_data_loader = create_data_loader(df_train, text_col, target_col , tokenizer, MAX_LEN, BATCH_SIZE)\n",
        "val_data_loader = create_data_loader(df_val, text_col, target_col, tokenizer, MAX_LEN, BATCH_SIZE)\n",
        "test_data_loader = create_data_loader_test(df_test, text_col, tokenizer, MAX_LEN, BATCH_SIZE)"
      ]
    },
    {
      "cell_type": "code",
      "source": [
        "model = SentimentClassifier(len(class_names))\n",
        "model = model.to(device)\n",
        "\n",
        "optimizer = AdamW(model.parameters(), lr=2e-5, correct_bias=False)\n",
        "total_steps = len(train_data_loader) * EPOCHS\n",
        "\n",
        "scheduler = get_linear_schedule_with_warmup(\n",
        "  optimizer,\n",
        "  num_warmup_steps=0,\n",
        "  num_training_steps=total_steps\n",
        ")\n",
        "\n",
        "loss_fn = nn.CrossEntropyLoss().to(device)"
      ],
      "metadata": {
        "colab": {
          "base_uri": "https://localhost:8080/",
          "height": 158,
          "referenced_widgets": [
            "f5d3413907454c82a461aaf357fa10d3",
            "fd0654de04504874bb5fc41aac6d25fe",
            "3f11e5c6153249c0bf4600e677508151",
            "c3caa6a9804849148d9c5d5aa19a341b",
            "181b6f48190945ee824a34bda617bffa",
            "116bdd1b80d34a7bb2450233435a1f42",
            "4830d2388fc54e919691a22c9dd09be8",
            "dbbd5bf3b6dd472cb020ec65fa905e2f",
            "e7d794a89f97463cae646e5f4776d6b4",
            "0801756f22244716a435d0e39f7aceb8",
            "8b3f4398a21944689f45efb79a294d4d"
          ]
        },
        "id": "PBemkFON8nSb",
        "outputId": "be753a19-866a-4354-f13f-3cb4b8a12901"
      },
      "execution_count": 19,
      "outputs": [
        {
          "output_type": "display_data",
          "data": {
            "text/plain": [
              "Downloading:   0%|          | 0.00/412M [00:00<?, ?B/s]"
            ],
            "application/vnd.jupyter.widget-view+json": {
              "version_major": 2,
              "version_minor": 0,
              "model_id": "f5d3413907454c82a461aaf357fa10d3"
            }
          },
          "metadata": {}
        },
        {
          "output_type": "stream",
          "name": "stderr",
          "text": [
            "Some weights of the model checkpoint at bert-base-chinese were not used when initializing BertModel: ['cls.predictions.transform.dense.bias', 'cls.seq_relationship.weight', 'cls.predictions.transform.LayerNorm.weight', 'cls.predictions.transform.dense.weight', 'cls.predictions.bias', 'cls.seq_relationship.bias', 'cls.predictions.decoder.weight', 'cls.predictions.transform.LayerNorm.bias']\n",
            "- This IS expected if you are initializing BertModel from the checkpoint of a model trained on another task or with another architecture (e.g. initializing a BertForSequenceClassification model from a BertForPreTraining model).\n",
            "- This IS NOT expected if you are initializing BertModel from the checkpoint of a model that you expect to be exactly identical (initializing a BertForSequenceClassification model from a BertForSequenceClassification model).\n",
            "/usr/local/lib/python3.7/dist-packages/transformers/optimization.py:310: FutureWarning: This implementation of AdamW is deprecated and will be removed in a future version. Use the PyTorch implementation torch.optim.AdamW instead, or set `no_deprecation_warning=True` to disable this warning\n",
            "  FutureWarning,\n"
          ]
        }
      ]
    },
    {
      "cell_type": "code",
      "execution_count": 20,
      "metadata": {
        "colab": {
          "base_uri": "https://localhost:8080/"
        },
        "id": "VSIeBvEP-hnD",
        "outputId": "8485f97b-8a0e-4af0-8a25-56124da4e866"
      },
      "outputs": [
        {
          "output_type": "stream",
          "name": "stdout",
          "text": [
            "torch.Size([128, 16])\n",
            "torch.Size([128, 16])\n",
            "torch.Size([128])\n"
          ]
        }
      ],
      "source": [
        "# 確認資料轉換格式\n",
        "data = next(iter(train_data_loader))\n",
        "data.keys()\n",
        "\n",
        "# 確認資料維度\n",
        "# sahpe = (BATCH_SIZE * MAX_LEN)\n",
        "print(data['input_ids'].shape)\n",
        "print(data['attention_mask'].shape)\n",
        "\n",
        "# sahpe = BATCH_SIZE\n",
        "print(data['targets'].shape)"
      ]
    },
    {
      "cell_type": "markdown",
      "metadata": {
        "id": "2ZEo_ZDP-hnE"
      },
      "source": [
        "## 定義完整模型與訓練、驗證流程"
      ]
    },
    {
      "cell_type": "code",
      "execution_count": null,
      "metadata": {
        "colab": {
          "base_uri": "https://localhost:8080/"
        },
        "id": "KArHMQoy-hnG",
        "outputId": "aab4b13c-0f0e-4f1a-a0d3-badd52bd8d00"
      },
      "outputs": [
        {
          "output_type": "stream",
          "name": "stdout",
          "text": [
            "Epoch 1/1\n",
            "----------\n"
          ]
        }
      ],
      "source": [
        "%%time\n",
        "t = time()\n",
        "\n",
        "history = defaultdict(list)\n",
        "best_accuracy = 0\n",
        "\n",
        "for epoch in range(EPOCHS):\n",
        "\n",
        "    print(f'Epoch {epoch + 1}/{EPOCHS}')\n",
        "    print('-' * 10)\n",
        "    \n",
        "    # 1.取得每次迭代模型，訓練資料的準確率和loss\n",
        "    train_acc, train_loss = train_epoch(\n",
        "        model,\n",
        "        train_data_loader,    \n",
        "        loss_fn, \n",
        "        optimizer, \n",
        "        device, \n",
        "        scheduler, \n",
        "        len(df_train)\n",
        "    )\n",
        "\n",
        "    print(f'Train loss {train_loss} accuracy {train_acc}')\n",
        "    \n",
        "    # 2.取得每次迭代模型，驗證資料的準確率和loss\n",
        "    val_acc, val_loss = eval_model(\n",
        "        model,\n",
        "        val_data_loader,\n",
        "        loss_fn, \n",
        "        device, \n",
        "        len(df_val)\n",
        "    )\n",
        "\n",
        "    print(f'Val   loss {val_loss} accuracy {val_acc}')\n",
        "    print()\n",
        "    \n",
        "    # 3. 儲存每次迭代訓練、驗證集的準確率和loss\n",
        "    history['train_acc'].append(train_acc)\n",
        "    history['train_loss'].append(train_loss)\n",
        "    history['val_acc'].append(val_acc)\n",
        "    history['val_loss'].append(val_loss)\n",
        "    \n",
        "    # 以驗證集的準確率為標準，儲存最佳的模型\n",
        "    if val_acc > best_accuracy:\n",
        "        torch.save(model.state_dict(), 'best_model_state.bin')\n",
        "        best_accuracy = val_acc\n",
        "        \n",
        "print('Time to train the model: {} mins'.format(round((time() - t) / 60, 2)))"
      ]
    },
    {
      "cell_type": "markdown",
      "metadata": {
        "id": "gOrVYoD--hnG"
      },
      "source": [
        "### 檢視訓練結果"
      ]
    },
    {
      "cell_type": "code",
      "execution_count": null,
      "metadata": {
        "id": "j7OVPAoa-hnG"
      },
      "outputs": [],
      "source": [
        "plt.plot(history['train_acc'], label='train accuracy')\n",
        "plt.plot(history['val_acc'], label='validation accuracy')\n",
        "\n",
        "plt.title('Training history')\n",
        "plt.ylabel('Accuracy')\n",
        "plt.xlabel('Epoch')\n",
        "plt.legend()\n",
        "plt.ylim([0, 1]);"
      ]
    },
    {
      "cell_type": "markdown",
      "metadata": {
        "id": "Y2ba-u8K-hnG"
      },
      "source": [
        "## 4.1 檢視總體訓練結果"
      ]
    },
    {
      "cell_type": "code",
      "execution_count": null,
      "metadata": {
        "id": "E13dNcwv-hnH",
        "outputId": "e8ea862e-b400-4437-dd37-80b1654a07f4"
      },
      "outputs": [
        {
          "name": "stderr",
          "output_type": "stream",
          "text": [
            "Some weights of the model checkpoint at bert-base-cased were not used when initializing BertModel: ['cls.predictions.decoder.weight', 'cls.seq_relationship.weight', 'cls.predictions.transform.dense.bias', 'cls.predictions.transform.LayerNorm.weight', 'cls.predictions.bias', 'cls.predictions.transform.LayerNorm.bias', 'cls.predictions.transform.dense.weight', 'cls.seq_relationship.bias']\n",
            "- This IS expected if you are initializing BertModel from the checkpoint of a model trained on another task or with another architecture (e.g. initializing a BertForSequenceClassification model from a BertForPreTraining model).\n",
            "- This IS NOT expected if you are initializing BertModel from the checkpoint of a model that you expect to be exactly identical (initializing a BertForSequenceClassification model from a BertForSequenceClassification model).\n"
          ]
        }
      ],
      "source": [
        "# 有存模型再跑這段\n",
        "# model = SentimentClassifier(len(class_names))\n",
        "# model.load_state_dict(torch.load('model/en/best_model_state.bin'))\n",
        "# model = model.to(device)"
      ]
    },
    {
      "cell_type": "markdown",
      "metadata": {
        "id": "v5Kv0hsj-hnH"
      },
      "source": [
        "### 預測驗證集資料\n"
      ]
    },
    {
      "cell_type": "code",
      "execution_count": null,
      "metadata": {
        "id": "LP1XgDMR-hnH",
        "outputId": "3c968c1f-7c08-4826-dcba-8fbf2fbb1c34"
      },
      "outputs": [
        {
          "name": "stdout",
          "output_type": "stream",
          "text": [
            "accuracy of test data: 0.881979695431472\n"
          ]
        }
      ],
      "source": [
        "test_acc, _ = eval_model(\n",
        "  model,\n",
        "  test_data_loader,\n",
        "  loss_fn,\n",
        "  device,\n",
        "  len(df_test)\n",
        ")\n",
        "\n",
        "print(f\"accuracy of test data: {test_acc.item()}\")"
      ]
    },
    {
      "cell_type": "markdown",
      "metadata": {
        "id": "RNEkfWb7-hnH"
      },
      "source": [
        "### 定義取出訓練結果的函數"
      ]
    },
    {
      "cell_type": "code",
      "execution_count": null,
      "metadata": {
        "id": "vZxvzHei-hnH"
      },
      "outputs": [],
      "source": [
        "def get_predictions(model, data_loader):\n",
        "    model = model.eval()\n",
        "  \n",
        "    review_texts = [] # 存要預測的評論\n",
        "    predictions = [] # 存預測結果\n",
        "    prediction_probs = [] # 存預測機率\n",
        "    real_values = [] # 存真實標籤\n",
        "\n",
        "    with torch.no_grad():\n",
        "        for d in data_loader:\n",
        "            # 1.把訓練資料放到 GPU 上\n",
        "            texts = d[\"review_text\"]\n",
        "            input_ids = d[\"input_ids\"].to(device)\n",
        "            attention_mask = d[\"attention_mask\"].to(device)\n",
        "            targets = d[\"targets\"].to(device)\n",
        "            \n",
        "            # 2.拿出模型預測結果(預測各類別的機率)\n",
        "            outputs = model(\n",
        "            input_ids=input_ids,\n",
        "            attention_mask=attention_mask\n",
        "            )\n",
        "            \n",
        "            # 3. 取出預測機率的最大值，當作最終預測類別\n",
        "            _, preds = torch.max(outputs, dim=1)\n",
        "            probs = F.softmax(outputs, dim=1)\n",
        "            \n",
        "            # 4. 儲存要預測的評論資料與預測結果\n",
        "            review_texts.extend(texts)\n",
        "            predictions.extend(preds)\n",
        "            prediction_probs.extend(probs)\n",
        "            real_values.extend(targets)\n",
        "\n",
        "    predictions = torch.stack(predictions).cpu()\n",
        "    prediction_probs = torch.stack(prediction_probs).cpu()\n",
        "    real_values = torch.stack(real_values).cpu()\n",
        "    return review_texts, predictions, prediction_probs, real_values"
      ]
    },
    {
      "cell_type": "code",
      "execution_count": null,
      "metadata": {
        "id": "_NbkHXTb-hnH"
      },
      "outputs": [],
      "source": [
        "# 取出測試集的預測結果\n",
        "y_review_texts, y_pred, y_pred_probs, y_test = get_predictions(\n",
        "  model,\n",
        "  test_data_loader\n",
        ")"
      ]
    },
    {
      "cell_type": "markdown",
      "metadata": {
        "id": "xnhFaYg1-hnI"
      },
      "source": [
        "### 檢視預測結果\n",
        "首先檢視各個類別的`precision`,`recall`,`f1-score`，看起來中性和負面的評論表現較差"
      ]
    },
    {
      "cell_type": "code",
      "execution_count": null,
      "metadata": {
        "id": "Uj3N2Pfl-hnI",
        "outputId": "29f0ad5c-fc2d-414f-becb-e0fbe8c84c39"
      },
      "outputs": [
        {
          "name": "stdout",
          "output_type": "stream",
          "text": [
            "              precision    recall  f1-score   support\n",
            "\n",
            "    negative       0.90      0.84      0.87       245\n",
            "     neutral       0.84      0.86      0.85       254\n",
            "    positive       0.91      0.93      0.92       289\n",
            "\n",
            "    accuracy                           0.88       788\n",
            "   macro avg       0.88      0.88      0.88       788\n",
            "weighted avg       0.88      0.88      0.88       788\n",
            "\n"
          ]
        }
      ],
      "source": [
        "print(classification_report(y_test, y_pred, target_names=class_names))"
      ]
    },
    {
      "cell_type": "markdown",
      "metadata": {
        "id": "qmOVM8uD-hnI"
      },
      "source": [
        "查看各個類別的混淆矩陣，發現正面和負面的評論混淆成中性的情況較多，中性的評論也常混淆成這兩者。"
      ]
    },
    {
      "cell_type": "code",
      "execution_count": null,
      "metadata": {
        "id": "d9sI_N8h-hnI",
        "outputId": "61a8fc65-ae23-400f-e0d6-354cf5b36d00"
      },
      "outputs": [
        {
          "data": {
            "image/png": "[encoded data removed]",
            "text/plain": [
              "<Figure size 864x576 with 2 Axes>"
            ]
          },
          "metadata": {
            "image/png": {
              "height": 516,
              "width": 725
            }
          },
          "output_type": "display_data"
        }
      ],
      "source": [
        "def show_confusion_matrix(confusion_matrix):\n",
        "    hmap = sns.heatmap(confusion_matrix, annot=True, fmt=\"d\", cmap=\"Blues\")\n",
        "    hmap.yaxis.set_ticklabels(hmap.yaxis.get_ticklabels(), rotation=0, ha='right')\n",
        "    hmap.xaxis.set_ticklabels(hmap.xaxis.get_ticklabels(), rotation=30, ha='right')\n",
        "    plt.ylabel('True sentiment')\n",
        "    plt.xlabel('Predicted sentiment');\n",
        "\n",
        "cm = confusion_matrix(y_test, y_pred)\n",
        "df_cm = pd.DataFrame(cm, index=class_names, columns=class_names)\n",
        "show_confusion_matrix(df_cm)"
      ]
    },
    {
      "cell_type": "markdown",
      "metadata": {
        "id": "PFR2Wb_K-hnI"
      },
      "source": [
        "## 4.2 個別句子的預測分析\n"
      ]
    },
    {
      "cell_type": "code",
      "execution_count": null,
      "metadata": {
        "id": "ww9uWBQM-hnI",
        "outputId": "472e2ace-02ce-4476-8c35-f4b03c693caf"
      },
      "outputs": [
        {
          "data": {
            "text/html": [
              "<div>\n",
              "<style scoped>\n",
              "    .dataframe tbody tr th:only-of-type {\n",
              "        vertical-align: middle;\n",
              "    }\n",
              "\n",
              "    .dataframe tbody tr th {\n",
              "        vertical-align: top;\n",
              "    }\n",
              "\n",
              "    .dataframe thead th {\n",
              "        text-align: right;\n",
              "    }\n",
              "</style>\n",
              "<table border=\"1\" class=\"dataframe\">\n",
              "  <thead>\n",
              "    <tr style=\"text-align: right;\">\n",
              "      <th></th>\n",
              "      <th>class_names</th>\n",
              "      <th>values</th>\n",
              "    </tr>\n",
              "  </thead>\n",
              "  <tbody>\n",
              "    <tr>\n",
              "      <th>0</th>\n",
              "      <td>negative</td>\n",
              "      <td>0.000251</td>\n",
              "    </tr>\n",
              "    <tr>\n",
              "      <th>1</th>\n",
              "      <td>neutral</td>\n",
              "      <td>0.999507</td>\n",
              "    </tr>\n",
              "    <tr>\n",
              "      <th>2</th>\n",
              "      <td>positive</td>\n",
              "      <td>0.000241</td>\n",
              "    </tr>\n",
              "  </tbody>\n",
              "</table>\n",
              "</div>"
            ],
            "text/plain": [
              "  class_names    values\n",
              "0    negative  0.000251\n",
              "1     neutral  0.999507\n",
              "2    positive  0.000241"
            ]
          },
          "execution_count": 72,
          "metadata": {},
          "output_type": "execute_result"
        }
      ],
      "source": [
        "# 拿測試資料集的第三筆資料\n",
        "idx = 2\n",
        "review_text = y_review_texts[idx] # 要預測的資料\n",
        "true_sentiment = y_test[idx] # 真實標籤\n",
        "\n",
        "# 將預測結果整合成dataframe\n",
        "pred_df = pd.DataFrame({\n",
        "  'class_names': class_names, # 三種情緒標籤\n",
        "  'values': y_pred_probs[idx] # 單筆預測機率\n",
        "})\n",
        "pred_df"
      ]
    },
    {
      "cell_type": "code",
      "execution_count": null,
      "metadata": {
        "id": "akVIy786-hnJ",
        "outputId": "6face75e-64db-4530-b164-b7746a60f915"
      },
      "outputs": [
        {
          "name": "stdout",
          "output_type": "stream",
          "text": [
            "original text: \n",
            "I used to use Habitica, and I must say this is a great step up. I'd\n",
            "like to see more social features, such as sharing tasks - only one\n",
            "person has to perform said task for it to be checked off, but only\n",
            "giving that person the experience and gold. Otherwise, the price for\n",
            "subscription is too steep, thus resulting in a sub-perfect score. I\n",
            "could easily justify $0.99/month or eternal subscription for $15. If\n",
            "that price could be met, as well as fine tuning, this would be easily\n",
            "worth 5 stars.\n",
            "\n",
            "True sentiment: neutral\n"
          ]
        }
      ],
      "source": [
        "print(\"original text: \")\n",
        "print(\"\\n\".join(wrap(review_text)))\n",
        "print()\n",
        "print(f'True sentiment: {class_names[true_sentiment]}')"
      ]
    },
    {
      "cell_type": "markdown",
      "metadata": {
        "id": "NF42td-9-hnJ"
      },
      "source": [
        "### 機率長條圖\n",
        "將單筆資料預測各個類別的機率化成長條圖，看起來對這筆資料模型預測的滿準的"
      ]
    },
    {
      "cell_type": "code",
      "execution_count": null,
      "metadata": {
        "id": "ftnTnhPG-hnJ",
        "outputId": "4a0b56d5-dce3-438a-ad0a-1cad4a7dbac9"
      },
      "outputs": [
        {
          "data": {
            "image/png": "[encoded data removed]",
            "text/plain": [
              "<Figure size 864x576 with 1 Axes>"
            ]
          },
          "metadata": {
            "image/png": {
              "height": 489,
              "width": 779
            }
          },
          "output_type": "display_data"
        }
      ],
      "source": [
        "sns.barplot(x='values', y='class_names', data=pred_df, orient='h')\n",
        "plt.ylabel('sentiment')\n",
        "plt.xlabel('probability')\n",
        "plt.xlim([0, 1]);"
      ]
    },
    {
      "cell_type": "markdown",
      "metadata": {
        "id": "op0aQtiD-hnJ"
      },
      "source": [
        "### 預測自定的新句子\n",
        "除了data_loder載入的資料集，也可以自己輸入新句看預測結果。"
      ]
    },
    {
      "cell_type": "code",
      "execution_count": null,
      "metadata": {
        "id": "dis27oCi-hnJ"
      },
      "outputs": [],
      "source": [
        "review_text = \"I love completing my todos! Best app ever!!!\""
      ]
    },
    {
      "cell_type": "code",
      "execution_count": null,
      "metadata": {
        "id": "4KjNtEFv-hnJ",
        "outputId": "a680533a-f665-4516-b7d0-9e8ae2bdcd04"
      },
      "outputs": [
        {
          "name": "stderr",
          "output_type": "stream",
          "text": [
            "Truncation was not explicitly activated but `max_length` is provided a specific value, please use `truncation=True` to explicitly truncate examples to max length. Defaulting to 'longest_first' truncation strategy. If you encode pairs of sequences (GLUE-style) with the tokenizer you can select this strategy more precisely by providing a specific strategy to `truncation`.\n",
            "/home/ann2/.local/lib/python3.6/site-packages/transformers/tokenization_utils_base.py:2232: FutureWarning: The `pad_to_max_length` argument is deprecated and will be removed in a future version, use `padding=True` or `padding='longest'` to pad to the longest sequence in the batch, or use `padding='max_length'` to pad to a max length. In this case, you can give a specific length with `max_length` (e.g. `max_length=45`) or leave max_length to None to pad to the maximal input size of the model (e.g. 512 for Bert).\n",
            "  FutureWarning,\n"
          ]
        }
      ],
      "source": [
        "encoded_review = tokenizer.encode_plus(\n",
        "  review_text,\n",
        "  max_length=MAX_LEN,\n",
        "  add_special_tokens=True,\n",
        "  return_token_type_ids=False,\n",
        "  pad_to_max_length=True,\n",
        "  return_attention_mask=True,\n",
        "  return_tensors='pt',\n",
        ")"
      ]
    },
    {
      "cell_type": "code",
      "execution_count": null,
      "metadata": {
        "id": "FCItDrhp-hnJ",
        "outputId": "3a02710b-7bef-45de-f7ee-9edc205b07fa"
      },
      "outputs": [
        {
          "name": "stdout",
          "output_type": "stream",
          "text": [
            "Review text: I love completing my todos! Best app ever!!!\n",
            "Sentiment  : positive\n"
          ]
        }
      ],
      "source": [
        "input_ids = encoded_review['input_ids'].to(device)\n",
        "attention_mask = encoded_review['attention_mask'].to(device)\n",
        "\n",
        "output = model(input_ids, attention_mask)\n",
        "_, prediction = torch.max(output, dim=1)\n",
        "\n",
        "print(f'Review text: {review_text}')\n",
        "print(f'Sentiment  : {class_names[prediction]}')"
      ]
    },
    {
      "cell_type": "markdown",
      "metadata": {
        "id": "ens0oP_k-hnJ"
      },
      "source": [
        "## 結論\n",
        "1. 如何建構一個完整的BERT模型\n",
        "    + 將資料分為訓練、驗證與測試資料集：訓練集用來更新模型參數、驗證集可檢驗迭代過程中模型的訓練效果，最後將訓練模型套用在測試集上預測結果。\n",
        "    + 先將資料轉換為 token_ID 與 attention_mask 再送入模型作訓練\n",
        "    + 可從 Transformer library 下載預訓練好的模型，再自行定義下游任務作預測\n",
        "    + 經由迭代的過程更新模型參數，並儲存效果最佳的模型\n",
        "2. 什麼樣的類別預測的效果較好？\n",
        "    + 正面類別的資料預測效果最好，中性資料則容易混淆成其他兩類情緒"
      ]
    },
    {
      "cell_type": "markdown",
      "metadata": {
        "id": "f3wM0oVe-hnK"
      },
      "source": [
        "## 相關連結\n",
        "+ 教學影片\n",
        "    + Text Preprocessing 資料前處理\n",
        "    + https://www.youtube.com/watch?v=Osj0Z6rwJB4\n",
        "    + Text Classification 分類任務\n",
        "    + https://www.youtube.com/watch?v=8N-nM3QW7O0        \n",
        "+ 套件\n",
        "    + transformers 官網\n",
        "    + https://huggingface.co/docs/transformers/index\n",
        "+ 參考教材：\n",
        "    + Sentiment Analysis with BERT\n",
        "    + https://curiousily.com/posts/sentiment-analysis-with-bert-and-hugging-face-using-pytorch-and-python/?fbclid=IwAR2hFMfTqG7ielGSfrtzEbUIH7EPXNOLG3dIQidMwiOh-wISSWL-sYf8Yhg"
      ]
    }
  ],
  "metadata": {
    "colab": {
      "provenance": [],
      "collapsed_sections": []
    },
    "kernelspec": {
      "display_name": "Python 3",
      "language": "python",
      "name": "python3"
    },
    "language_info": {
      "codemirror_mode": {
        "name": "ipython",
        "version": 3
      },
      "file_extension": ".py",
      "mimetype": "text/x-python",
      "name": "python",
      "nbconvert_exporter": "python",
      "pygments_lexer": "ipython3",
      "version": "3.6.8"
    },
    "widgets": {
      "application/vnd.jupyter.widget-state+json": {
        "f5d3413907454c82a461aaf357fa10d3": {
          "model_module": "@jupyter-widgets/controls",
          "model_name": "HBoxModel",
          "model_module_version": "1.5.0",
          "state": {
            "_dom_classes": [],
            "_model_module": "@jupyter-widgets/controls",
            "_model_module_version": "1.5.0",
            "_model_name": "HBoxModel",
            "_view_count": null,
            "_view_module": "@jupyter-widgets/controls",
            "_view_module_version": "1.5.0",
            "_view_name": "HBoxView",
            "box_style": "",
            "children": [
              "IPY_MODEL_fd0654de04504874bb5fc41aac6d25fe",
              "IPY_MODEL_3f11e5c6153249c0bf4600e677508151",
              "IPY_MODEL_c3caa6a9804849148d9c5d5aa19a341b"
            ],
            "layout": "IPY_MODEL_181b6f48190945ee824a34bda617bffa"
          }
        },
        "fd0654de04504874bb5fc41aac6d25fe": {
          "model_module": "@jupyter-widgets/controls",
          "model_name": "HTMLModel",
          "model_module_version": "1.5.0",
          "state": {
            "_dom_classes": [],
            "_model_module": "@jupyter-widgets/controls",
            "_model_module_version": "1.5.0",
            "_model_name": "HTMLModel",
            "_view_count": null,
            "_view_module": "@jupyter-widgets/controls",
            "_view_module_version": "1.5.0",
            "_view_name": "HTMLView",
            "description": "",
            "description_tooltip": null,
            "layout": "IPY_MODEL_116bdd1b80d34a7bb2450233435a1f42",
            "placeholder": "​",
            "style": "IPY_MODEL_4830d2388fc54e919691a22c9dd09be8",
            "value": "Downloading: 100%"
          }
        },
        "3f11e5c6153249c0bf4600e677508151": {
          "model_module": "@jupyter-widgets/controls",
          "model_name": "FloatProgressModel",
          "model_module_version": "1.5.0",
          "state": {
            "_dom_classes": [],
            "_model_module": "@jupyter-widgets/controls",
            "_model_module_version": "1.5.0",
            "_model_name": "FloatProgressModel",
            "_view_count": null,
            "_view_module": "@jupyter-widgets/controls",
            "_view_module_version": "1.5.0",
            "_view_name": "ProgressView",
            "bar_style": "success",
            "description": "",
            "description_tooltip": null,
            "layout": "IPY_MODEL_dbbd5bf3b6dd472cb020ec65fa905e2f",
            "max": 411577189,
            "min": 0,
            "orientation": "horizontal",
            "style": "IPY_MODEL_e7d794a89f97463cae646e5f4776d6b4",
            "value": 411577189
          }
        },
        "c3caa6a9804849148d9c5d5aa19a341b": {
          "model_module": "@jupyter-widgets/controls",
          "model_name": "HTMLModel",
          "model_module_version": "1.5.0",
          "state": {
            "_dom_classes": [],
            "_model_module": "@jupyter-widgets/controls",
            "_model_module_version": "1.5.0",
            "_model_name": "HTMLModel",
            "_view_count": null,
            "_view_module": "@jupyter-widgets/controls",
            "_view_module_version": "1.5.0",
            "_view_name": "HTMLView",
            "description": "",
            "description_tooltip": null,
            "layout": "IPY_MODEL_0801756f22244716a435d0e39f7aceb8",
            "placeholder": "​",
            "style": "IPY_MODEL_8b3f4398a21944689f45efb79a294d4d",
            "value": " 412M/412M [00:15&lt;00:00, 39.2MB/s]"
          }
        },
        "181b6f48190945ee824a34bda617bffa": {
          "model_module": "@jupyter-widgets/base",
          "model_name": "LayoutModel",
          "model_module_version": "1.2.0",
          "state": {
            "_model_module": "@jupyter-widgets/base",
            "_model_module_version": "1.2.0",
            "_model_name": "LayoutModel",
            "_view_count": null,
            "_view_module": "@jupyter-widgets/base",
            "_view_module_version": "1.2.0",
            "_view_name": "LayoutView",
            "align_content": null,
            "align_items": null,
            "align_self": null,
            "border": null,
            "bottom": null,
            "display": null,
            "flex": null,
            "flex_flow": null,
            "grid_area": null,
            "grid_auto_columns": null,
            "grid_auto_flow": null,
            "grid_auto_rows": null,
            "grid_column": null,
            "grid_gap": null,
            "grid_row": null,
            "grid_template_areas": null,
            "grid_template_columns": null,
            "grid_template_rows": null,
            "height": null,
            "justify_content": null,
            "justify_items": null,
            "left": null,
            "margin": null,
            "max_height": null,
            "max_width": null,
            "min_height": null,
            "min_width": null,
            "object_fit": null,
            "object_position": null,
            "order": null,
            "overflow": null,
            "overflow_x": null,
            "overflow_y": null,
            "padding": null,
            "right": null,
            "top": null,
            "visibility": null,
            "width": null
          }
        },
        "116bdd1b80d34a7bb2450233435a1f42": {
          "model_module": "@jupyter-widgets/base",
          "model_name": "LayoutModel",
          "model_module_version": "1.2.0",
          "state": {
            "_model_module": "@jupyter-widgets/base",
            "_model_module_version": "1.2.0",
            "_model_name": "LayoutModel",
            "_view_count": null,
            "_view_module": "@jupyter-widgets/base",
            "_view_module_version": "1.2.0",
            "_view_name": "LayoutView",
            "align_content": null,
            "align_items": null,
            "align_self": null,
            "border": null,
            "bottom": null,
            "display": null,
            "flex": null,
            "flex_flow": null,
            "grid_area": null,
            "grid_auto_columns": null,
            "grid_auto_flow": null,
            "grid_auto_rows": null,
            "grid_column": null,
            "grid_gap": null,
            "grid_row": null,
            "grid_template_areas": null,
            "grid_template_columns": null,
            "grid_template_rows": null,
            "height": null,
            "justify_content": null,
            "justify_items": null,
            "left": null,
            "margin": null,
            "max_height": null,
            "max_width": null,
            "min_height": null,
            "min_width": null,
            "object_fit": null,
            "object_position": null,
            "order": null,
            "overflow": null,
            "overflow_x": null,
            "overflow_y": null,
            "padding": null,
            "right": null,
            "top": null,
            "visibility": null,
            "width": null
          }
        },
        "4830d2388fc54e919691a22c9dd09be8": {
          "model_module": "@jupyter-widgets/controls",
          "model_name": "DescriptionStyleModel",
          "model_module_version": "1.5.0",
          "state": {
            "_model_module": "@jupyter-widgets/controls",
            "_model_module_version": "1.5.0",
            "_model_name": "DescriptionStyleModel",
            "_view_count": null,
            "_view_module": "@jupyter-widgets/base",
            "_view_module_version": "1.2.0",
            "_view_name": "StyleView",
            "description_width": ""
          }
        },
        "dbbd5bf3b6dd472cb020ec65fa905e2f": {
          "model_module": "@jupyter-widgets/base",
          "model_name": "LayoutModel",
          "model_module_version": "1.2.0",
          "state": {
            "_model_module": "@jupyter-widgets/base",
            "_model_module_version": "1.2.0",
            "_model_name": "LayoutModel",
            "_view_count": null,
            "_view_module": "@jupyter-widgets/base",
            "_view_module_version": "1.2.0",
            "_view_name": "LayoutView",
            "align_content": null,
            "align_items": null,
            "align_self": null,
            "border": null,
            "bottom": null,
            "display": null,
            "flex": null,
            "flex_flow": null,
            "grid_area": null,
            "grid_auto_columns": null,
            "grid_auto_flow": null,
            "grid_auto_rows": null,
            "grid_column": null,
            "grid_gap": null,
            "grid_row": null,
            "grid_template_areas": null,
            "grid_template_columns": null,
            "grid_template_rows": null,
            "height": null,
            "justify_content": null,
            "justify_items": null,
            "left": null,
            "margin": null,
            "max_height": null,
            "max_width": null,
            "min_height": null,
            "min_width": null,
            "object_fit": null,
            "object_position": null,
            "order": null,
            "overflow": null,
            "overflow_x": null,
            "overflow_y": null,
            "padding": null,
            "right": null,
            "top": null,
            "visibility": null,
            "width": null
          }
        },
        "e7d794a89f97463cae646e5f4776d6b4": {
          "model_module": "@jupyter-widgets/controls",
          "model_name": "ProgressStyleModel",
          "model_module_version": "1.5.0",
          "state": {
            "_model_module": "@jupyter-widgets/controls",
            "_model_module_version": "1.5.0",
            "_model_name": "ProgressStyleModel",
            "_view_count": null,
            "_view_module": "@jupyter-widgets/base",
            "_view_module_version": "1.2.0",
            "_view_name": "StyleView",
            "bar_color": null,
            "description_width": ""
          }
        },
        "0801756f22244716a435d0e39f7aceb8": {
          "model_module": "@jupyter-widgets/base",
          "model_name": "LayoutModel",
          "model_module_version": "1.2.0",
          "state": {
            "_model_module": "@jupyter-widgets/base",
            "_model_module_version": "1.2.0",
            "_model_name": "LayoutModel",
            "_view_count": null,
            "_view_module": "@jupyter-widgets/base",
            "_view_module_version": "1.2.0",
            "_view_name": "LayoutView",
            "align_content": null,
            "align_items": null,
            "align_self": null,
            "border": null,
            "bottom": null,
            "display": null,
            "flex": null,
            "flex_flow": null,
            "grid_area": null,
            "grid_auto_columns": null,
            "grid_auto_flow": null,
            "grid_auto_rows": null,
            "grid_column": null,
            "grid_gap": null,
            "grid_row": null,
            "grid_template_areas": null,
            "grid_template_columns": null,
            "grid_template_rows": null,
            "height": null,
            "justify_content": null,
            "justify_items": null,
            "left": null,
            "margin": null,
            "max_height": null,
            "max_width": null,
            "min_height": null,
            "min_width": null,
            "object_fit": null,
            "object_position": null,
            "order": null,
            "overflow": null,
            "overflow_x": null,
            "overflow_y": null,
            "padding": null,
            "right": null,
            "top": null,
            "visibility": null,
            "width": null
          }
        },
        "8b3f4398a21944689f45efb79a294d4d": {
          "model_module": "@jupyter-widgets/controls",
          "model_name": "DescriptionStyleModel",
          "model_module_version": "1.5.0",
          "state": {
            "_model_module": "@jupyter-widgets/controls",
            "_model_module_version": "1.5.0",
            "_model_name": "DescriptionStyleModel",
            "_view_count": null,
            "_view_module": "@jupyter-widgets/base",
            "_view_module_version": "1.2.0",
            "_view_name": "StyleView",
            "description_width": ""
          }
        }
      }
    }
  },
  "nbformat": 4,
  "nbformat_minor": 0
}